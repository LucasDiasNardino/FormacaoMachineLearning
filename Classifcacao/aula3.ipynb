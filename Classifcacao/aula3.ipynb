{
 "cells": [
  {
   "cell_type": "markdown",
   "metadata": {},
   "source": [
    "## Aula 3 | Método Probabilístico\n",
    "\n",
    "Quando trabalhamos com probabilidade estatística, é muito importante **analisar e verificar a distribuição dos dados**.\n",
    "\n",
    "O ***Teorema de bayes*** é uma fórmula utilizada para calcular a probabilidade de um evento ocorrer **sabendo que um outro evento já ocorreu**, denominado **probabilidade condicional**. Sua notação é dada por:\n",
    "\n",
    "<br>\n",
    "\n",
    "$$P(A|B) = \\frac{P(B|A)P(A)}{P(B)}$$\n",
    "\n",
    "Onde:\n",
    "\n",
    "- $P(A|B)$: probabilidade de A ocorrer dado que B ocorreu\n",
    "- $P(B|A)$: probabilidade de B ocorrer dado que A ocorreu\n",
    "- $P(A)$: probabilidade de A ocorrer\n",
    "\n",
    "<br>\n",
    "\n"
   ]
  },
  {
   "cell_type": "markdown",
   "metadata": {},
   "source": [
    "### 3.3 | Treinamento e Teste\n"
   ]
  },
  {
   "cell_type": "code",
   "execution_count": 2,
   "metadata": {},
   "outputs": [],
   "source": [
    "import pandas as pd\n",
    "from sklearn.preprocessing import StandardScaler\n",
    "from sklearn.model_selection import train_test_split\n",
    "\n",
    "\n",
    "dados = pd.read_csv('Customer-Churn.csv')\n",
    "dados.head()\n",
    "\n",
    "#modificação de forma manual \n",
    "traducao_dic = {'Sim': 1, \n",
    "                'Nao': 0}\n",
    "\n",
    "dadosmodificados = dados[['Conjuge', 'Dependentes', 'TelefoneFixo', 'PagamentoOnline', 'Churn']].replace(traducao_dic)\n",
    "dadosmodificados.head()\n",
    "\n",
    "#transformação pelo get_dummies\n",
    "dummie_dados = pd.get_dummies(dados.drop(['Conjuge', 'Dependentes', 'TelefoneFixo', 'PagamentoOnline', 'Churn'],\n",
    "                axis=1))\n",
    "\n",
    "#junção dos dados trasformados com os que já tinhamos\n",
    "dados_final = pd.concat([dadosmodificados, dummie_dados], axis=1)\n",
    "\n",
    "#Divisão em inputs e outputs\n",
    "x = dados_final.drop('Churn', axis = 1)\n",
    "y = dados_final['Churn']\n",
    "\n",
    "norm = StandardScaler()\n",
    "\n",
    "X_normalizado = norm.fit_transform(x)\n",
    "X_normalizado\n",
    "\n",
    "X_treino, X_teste, y_treino, y_teste = train_test_split(X_normalizado, y, test_size=0.3, random_state=123)\n",
    "\n"
   ]
  },
  {
   "cell_type": "code",
   "execution_count": 3,
   "metadata": {},
   "outputs": [],
   "source": [
    "from sklearn.naive_bayes import BernoulliNB"
   ]
  },
  {
   "cell_type": "code",
   "execution_count": null,
   "metadata": {},
   "outputs": [],
   "source": [
    "bnb = BernoulliNB(binarize=0.5)"
   ]
  }
 ],
 "metadata": {
  "kernelspec": {
   "display_name": "base",
   "language": "python",
   "name": "python3"
  },
  "language_info": {
   "codemirror_mode": {
    "name": "ipython",
    "version": 3
   },
   "file_extension": ".py",
   "mimetype": "text/x-python",
   "name": "python",
   "nbconvert_exporter": "python",
   "pygments_lexer": "ipython3",
   "version": "3.9.7"
  },
  "orig_nbformat": 4
 },
 "nbformat": 4,
 "nbformat_minor": 2
}
