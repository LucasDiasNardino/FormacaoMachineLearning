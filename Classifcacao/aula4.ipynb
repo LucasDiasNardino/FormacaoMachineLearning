{
 "cells": [
  {
   "cell_type": "markdown",
   "metadata": {},
   "source": [
    "## Aula 4 | Método Simbólico\n",
    "<br>\n",
    "\n",
    "### Árvores de Decisão (Decision Tree)\n",
    "\n",
    "Modelo utilizado tanto para tarefas de classificação quanto regressão, que prevê classes ou valores de ***Y*** a partir de **decisões simples** inferidas a partir dos dados de treino.\n",
    "\n",
    "Tudo começa no **nó raiz**, onde é escolhido o **melhor atributo** para dividir os dados. É aplicado um **critério de impureza** para verificar o quão puro é o atributo. O resultado tem que ser um conjunto **homogêneo**.\n",
    "\n",
    "Após ter selecionado o melhor atributo para **dividir os dados a partir desses critérios**, é feita a divisão em dois outros nós: **verdadeiro** e **falso**. Eles se tornam os **nós de decisão**, e a partir deles é tomado outra decisão.\n",
    "\n",
    "A partir da decisão, **repete-se o processo recursivamente**.\n",
    "\n"
   ]
  }
 ],
 "metadata": {
  "language_info": {
   "name": "python"
  },
  "orig_nbformat": 4
 },
 "nbformat": 4,
 "nbformat_minor": 2
}
