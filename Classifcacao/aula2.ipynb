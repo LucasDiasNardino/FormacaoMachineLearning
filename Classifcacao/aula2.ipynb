{
 "cells": [
  {
   "cell_type": "markdown",
   "metadata": {},
   "source": [
    "### O que é K-Nearest Neighbours?\n",
    "\n",
    "O método K-Nearest Neighbours(KNN) é um **algoritmo de machine learning supervisionado, que pode ser utilizado para tarefas de classificação e regressão**. Ele funciona da seguinte forma:\n",
    "\n",
    "1. Recebe as **características da amostra**\n",
    "2. **Calcula as distâncias da amostra** nova com as já existentes\n",
    "3. Ordena as distâncias obtidas da **menor para a maior**\n",
    "4. A partir do número de **K vizinhos** desejados, escolhe quais as características que **mais se assemelham**\n",
    "\n"
   ]
  },
  {
   "cell_type": "markdown",
   "metadata": {},
   "source": [
    "### Divisão dos dados em treino e teste\n",
    "\n",
    "Separar o conjunto de dados em **treino** e **teste** é uma parte importante para conseguirmos medir o desempenho real de um modelo de ML. Essa etapa consiste em dedicar parte do conjunto de dados para **treinar o modelo** e outra parte para **testar**. Mas qual o motivos disso?\n",
    "\n",
    "Quando se passam os mesmos dados para treino e teste, o modelo vai acertar tudo por **já conhecer os dados**. Para resolver isso é feita esta divisão, sendo os dados de teste **nunca antes vistos pelo modelo**.  \n",
    "\n",
    "<br>\n",
    "\n",
    "#### Dados de Treino  \n",
    "\n",
    "Os dados de treino são aqueles utilizados para a **criação e treinamento** do modelo. Normalmente a maioria dos dados, cerca de 70%, são utilizados para treinamento\n",
    "\n",
    "\n",
    "\n",
    "#### Dados de Teste\n",
    "\n",
    "OS dados de teste são utilizados para **comprovar que o modelo realmente funciona**. Eles não são utilizados no treinamento do modelo e normalmente representam 30% da totalidade dos dados.\n",
    "\n",
    "<br>\n",
    "Além disso, é importante realizar uma separação **aleatória** dos dados, para garantir que não haverá nehum padrão no momento da divisão dos dados.\n"
   ]
  }
 ],
 "metadata": {
  "language_info": {
   "name": "python"
  },
  "orig_nbformat": 4
 },
 "nbformat": 4,
 "nbformat_minor": 2
}
