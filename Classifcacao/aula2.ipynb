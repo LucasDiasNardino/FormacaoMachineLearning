{
 "cells": [
  {
   "cell_type": "markdown",
   "metadata": {},
   "source": [
    "### O que é K-Nearest Neighbours?\n",
    "\n",
    "O método K-Nearest Neighbours(KNN) é um **algoritmo de machine learning supervisionado, que pode ser utilizado para tarefas de classificação e regressão**. Ele funciona da seguinte forma:\n",
    "\n",
    "1. Recebe as **características da amostra**\n",
    "2. **Calcula as distâncias da amostra** nova com as já existentes\n",
    "3. Ordena as distâncias obtidas da **menor para a maior**\n",
    "4. A partir do número de **K vizinhos** desejados, escolhe quais as características que **mais se assemelham**\n",
    "\n"
   ]
  },
  {
   "cell_type": "markdown",
   "metadata": {},
   "source": [
    "<br>"
   ]
  },
  {
   "cell_type": "markdown",
   "metadata": {},
   "source": [
    "### Divisão dos dados em treino e teste\n",
    "\n",
    "Separar o conjunto de dados em **treino** e **teste** é uma parte importante para conseguirmos medir o desempenho real de um modelo de ML. Essa etapa consiste em dedicar parte do conjunto de dados para **treinar o modelo** e outra parte para **testar**. Mas qual o motivos disso?\n",
    "\n",
    "Quando se passam os mesmos dados para treino e teste, o modelo vai acertar tudo por **já conhecer os dados**. Para resolver isso é feita esta divisão, sendo os dados de teste **nunca antes vistos pelo modelo**.  \n",
    "\n",
    "<br>\n",
    "\n",
    "#### Dados de Treino  \n",
    "\n",
    "Os dados de treino são aqueles utilizados para a **criação e treinamento** do modelo. Normalmente a maioria dos dados, cerca de 70%, são utilizados para treinamento\n",
    "\n",
    "\n",
    "\n",
    "#### Dados de Teste\n",
    "\n",
    "OS dados de teste são utilizados para **comprovar que o modelo realmente funciona**. Eles não são utilizados no treinamento do modelo e normalmente representam 30% da totalidade dos dados.\n",
    "\n",
    "<br>\n",
    "Além disso, é importante realizar uma separação **aleatória** dos dados, para garantir que não haverá nehum padrão no momento da divisão dos dados.\n"
   ]
  },
  {
   "cell_type": "markdown",
   "metadata": {},
   "source": [
    "<br>"
   ]
  },
  {
   "cell_type": "markdown",
   "metadata": {},
   "source": [
    "### Aula 2.5: KNN por trás dos panos"
   ]
  },
  {
   "cell_type": "code",
   "execution_count": 2,
   "metadata": {},
   "outputs": [],
   "source": [
    "import pandas as pd\n",
    "import numpy as np\n",
    "\n",
    "dados = pd.read_csv('Customer-Churn.csv')\n",
    "dados.head()\n",
    "\n",
    "#modificação de forma manual\n",
    "traducao_dic = {\n",
    "    'Sim' : 1,\n",
    "    'Nao' : 0\n",
    "}\n",
    "\n",
    "dadosmodificados = dados[['Conjuge','Dependentes', 'TelefoneFixo','TelefoneFixo', 'PagamentoOnline', 'Churn']]\n",
    "dadosmodificados = dadosmodificados.replace(traducao_dic)\n",
    "dadosmodificados.head()\n",
    "\n",
    "dumie_dados = pd.get_dummies(dados.drop(['Conjuge', 'Dependentes','TelefoneFixo', 'PagamentoOnline', 'Churn'],\n",
    "                                        axis=1))\n",
    "\n",
    "dados_final = pd.concat([dadosmodificados, dumie_dados], axis=1)\n",
    "dados_final.head()\n",
    "\n",
    "Xmaria = [[0,0,1,1,0,0,39.9,1,0,0,0,1,0,1,0,0,0,0,1,1,1,0,0,1,1,0,0,0,0,1,0,0,1,0,0,0,1]]\n",
    "\n"
   ]
  },
  {
   "cell_type": "code",
   "execution_count": 7,
   "metadata": {},
   "outputs": [],
   "source": [
    "\n",
    "# Divisão em inputs e outputs\n",
    "x = dados_final.drop('Churn', axis=1)\n",
    "y = dados_final['Churn']"
   ]
  },
  {
   "cell_type": "code",
   "execution_count": 5,
   "metadata": {},
   "outputs": [],
   "source": [
    "# biblioteca para padronizar os dados\n",
    "from sklearn.preprocessing import StandardScaler"
   ]
  },
  {
   "cell_type": "code",
   "execution_count": 9,
   "metadata": {},
   "outputs": [
    {
     "ename": "AttributeError",
     "evalue": "'numpy.ndarray' object has no attribute 'head'",
     "output_type": "error",
     "traceback": [
      "\u001b[1;31m---------------------------------------------------------------------------\u001b[0m",
      "\u001b[1;31mAttributeError\u001b[0m                            Traceback (most recent call last)",
      "Cell \u001b[1;32mIn[9], line 4\u001b[0m\n\u001b[0;32m      1\u001b[0m norm \u001b[39m=\u001b[39m StandardScaler()\n\u001b[0;32m      3\u001b[0m x_normalizado \u001b[39m=\u001b[39m norm\u001b[39m.\u001b[39mfit_transform(x)\n\u001b[1;32m----> 4\u001b[0m x_normalizado\u001b[39m.\u001b[39;49mhead()\n",
      "\u001b[1;31mAttributeError\u001b[0m: 'numpy.ndarray' object has no attribute 'head'"
     ]
    }
   ],
   "source": [
    "norm = StandardScaler()\n",
    "\n",
    "x_normalizado = norm.fit_transform(x)\n",
    "x_normalizado"
   ]
  },
  {
   "cell_type": "code",
   "execution_count": 10,
   "metadata": {},
   "outputs": [
    {
     "data": {
      "text/plain": [
       "array([ 1.03453023, -0.65401193, -3.05401039, -3.05401039,  0.8297975 ,\n",
       "       -0.43991649, -1.27744458, -1.16032292, -0.96332984,  3.05401039,\n",
       "       -0.85417615,  1.38171215, -0.88565976, -0.52592737,  1.00669571,\n",
       "       -0.52592737, -0.63393298, -0.88361972, -0.52592737,  1.3782406 ,\n",
       "        1.12942721, -0.52592737, -0.72396752,  1.0138687 , -0.52592737,\n",
       "       -0.63943864,  1.2273572 , -0.52592737, -0.79013171,  1.23648892,\n",
       "       -0.52592737, -0.79607014, -0.56297505,  0.90418382, -0.51424938,\n",
       "       -0.52504733,  1.40641839, -0.54480692, -0.5298852 ])"
      ]
     },
     "execution_count": 10,
     "metadata": {},
     "output_type": "execute_result"
    }
   ],
   "source": [
    "x_normalizado[0]"
   ]
  }
 ],
 "metadata": {
  "kernelspec": {
   "display_name": "Python 3",
   "language": "python",
   "name": "python3"
  },
  "language_info": {
   "codemirror_mode": {
    "name": "ipython",
    "version": 3
   },
   "file_extension": ".py",
   "mimetype": "text/x-python",
   "name": "python",
   "nbconvert_exporter": "python",
   "pygments_lexer": "ipython3",
   "version": "3.11.3"
  },
  "orig_nbformat": 4
 },
 "nbformat": 4,
 "nbformat_minor": 2
}
