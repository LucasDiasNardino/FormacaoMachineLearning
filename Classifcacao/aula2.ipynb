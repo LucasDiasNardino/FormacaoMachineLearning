{
 "cells": [
  {
   "cell_type": "markdown",
   "metadata": {},
   "source": [
    "### O que é K-Nearest Neighbours?\n",
    "\n",
    "O método K-Nearest Neighbours(KNN) é um **algoritmo de machine learning supervisionado, que pode ser utilizado para tarefas de classificação e regressão**. Ele funciona da seguinte forma:\n",
    "\n",
    "1. Recebe as informações\n",
    "2. Calcula as distâncias entre os vizinhos\n",
    "3. Ordena da menor distância para a maior\n",
    "4. Faz uma contagem das classes para cada distância\n",
    "5. Classifica a partir dos **K-vizinhos**\n",
    "6. Define o churn\n",
    "\n"
   ]
  }
 ],
 "metadata": {
  "language_info": {
   "name": "python"
  },
  "orig_nbformat": 4
 },
 "nbformat": 4,
 "nbformat_minor": 2
}
