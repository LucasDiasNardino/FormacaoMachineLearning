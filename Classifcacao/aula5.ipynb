{
 "cells": [
  {
   "cell_type": "markdown",
   "metadata": {},
   "source": [
    "## Aula 5 | Validação dos Modelos\n",
    "\n"
   ]
  },
  {
   "cell_type": "code",
   "execution_count": 1,
   "metadata": {},
   "outputs": [],
   "source": [
    "import pandas as pd\n",
    "import numpy as np\n",
    "from sklearn.preprocessing import StandardScaler\n",
    "from sklearn.model_selection import train_test_split\n",
    "\n",
    "\n",
    "dados = pd.read_csv('Customer-Churn.csv')\n",
    "dados.head()\n",
    "\n",
    "#modificação de forma manual \n",
    "traducao_dic = {'Sim': 1, \n",
    "                'Nao': 0}\n",
    "\n",
    "dadosmodificados = dados[['Conjuge', 'Dependentes', 'TelefoneFixo', 'PagamentoOnline', 'Churn']].replace(traducao_dic)\n",
    "dadosmodificados.head()\n",
    "\n",
    "#transformação pelo get_dummies\n",
    "dummie_dados = pd.get_dummies(dados.drop(['Conjuge', 'Dependentes', 'TelefoneFixo', 'PagamentoOnline', 'Churn'],\n",
    "                axis=1))\n",
    "\n",
    "#junção dos dados trasformados com os que já tinhamos\n",
    "dados_final = pd.concat([dadosmodificados, dummie_dados], axis=1)\n",
    "\n",
    "#Divisão em inputs e outputs\n",
    "x = dados_final.drop('Churn', axis = 1)\n",
    "y = dados_final['Churn']\n",
    "\n",
    "norm = StandardScaler()\n",
    "\n",
    "X_normalizado = norm.fit_transform(x)\n",
    "X_normalizado\n",
    "\n",
    "X_treino, X_teste, y_treino, y_teste = train_test_split(X_normalizado, y, test_size=0.3, random_state=123)\n"
   ]
  },
  {
   "cell_type": "code",
   "execution_count": 5,
   "metadata": {},
   "outputs": [],
   "source": [
    "# KNN\n",
    "from sklearn.neighbors import KNeighborsClassifier\n",
    "knn = KNeighborsClassifier(metric='euclidean')\n",
    "knn.fit(X_treino, y_treino)\n",
    "predito_knn = knn.predict(X_teste)\n",
    "#predito_knn"
   ]
  },
  {
   "cell_type": "code",
   "execution_count": 7,
   "metadata": {},
   "outputs": [],
   "source": [
    "# BNB\n",
    "from sklearn.naive_bayes import BernoulliNB\n",
    "bnb = BernoulliNB(binarize=0.52)\n",
    "bnb.fit(X_treino, y_treino)\n",
    "predito_bnb = bnb.predict(X_teste)\n",
    "#predito_bnb"
   ]
  },
  {
   "cell_type": "code",
   "execution_count": 8,
   "metadata": {},
   "outputs": [
    {
     "data": {
      "text/plain": [
       "array([1, 0, 0, ..., 1, 0, 0], dtype=int64)"
      ]
     },
     "execution_count": 8,
     "metadata": {},
     "output_type": "execute_result"
    }
   ],
   "source": [
    "# Decision Tree\n",
    "from sklearn.tree import DecisionTreeClassifier\n",
    "dtc = DecisionTreeClassifier(criterion='entropy', random_state=42)\n",
    "dtc.fit(X_treino, y_treino)\n",
    "predito_ArvoreDecisao = dtc.predict(X_teste)\n",
    "#predito_ArvoreDecisao"
   ]
  },
  {
   "cell_type": "code",
   "execution_count": 10,
   "metadata": {},
   "outputs": [],
   "source": [
    "from sklearn.metrics import confusion_matrix"
   ]
  },
  {
   "cell_type": "code",
   "execution_count": 12,
   "metadata": {},
   "outputs": [
    {
     "name": "stdout",
     "output_type": "stream",
     "text": [
      "[[1305  218]\n",
      " [ 317  273]]\n"
     ]
    }
   ],
   "source": [
    "print(confusion_matrix(y_teste, predito_knn))\n"
   ]
  },
  {
   "cell_type": "code",
   "execution_count": 13,
   "metadata": {},
   "outputs": [
    {
     "name": "stdout",
     "output_type": "stream",
     "text": [
      "[[1058  465]\n",
      " [ 120  470]]\n"
     ]
    }
   ],
   "source": [
    "print(confusion_matrix(y_teste, predito_bnb))"
   ]
  },
  {
   "cell_type": "code",
   "execution_count": 14,
   "metadata": {},
   "outputs": [
    {
     "name": "stdout",
     "output_type": "stream",
     "text": [
      "[[1249  274]\n",
      " [ 290  300]]\n"
     ]
    }
   ],
   "source": [
    "print(confusion_matrix(y_teste, predito_ArvoreDecisao))"
   ]
  }
 ],
 "metadata": {
  "kernelspec": {
   "display_name": "Python 3",
   "language": "python",
   "name": "python3"
  },
  "language_info": {
   "codemirror_mode": {
    "name": "ipython",
    "version": 3
   },
   "file_extension": ".py",
   "mimetype": "text/x-python",
   "name": "python",
   "nbconvert_exporter": "python",
   "pygments_lexer": "ipython3",
   "version": "3.11.3"
  },
  "orig_nbformat": 4
 },
 "nbformat": 4,
 "nbformat_minor": 2
}
