{
 "cells": [
  {
   "cell_type": "markdown",
   "metadata": {},
   "source": [
    "# Machine Learning | Lidando com Dados de Muitas Dimensões\n",
    "\n"
   ]
  },
  {
   "cell_type": "markdown",
   "metadata": {},
   "source": [
    "## Aula 2.3 | A dimensionalidade dos dados\n",
    "\n",
    "Recebendo a entrada dos dados, é necessário realizar um **pré processamento e transformações nos dados**. A partir dos dados tratados, **construímos o modelo de ml** e separamos em **dados de testes**. Após isso, **avaliaremos o modelo** e, se necessário, **ajustaremos os hiperparâmetros**. Por fim, **fazemos a previsão**.\n",
    "\n"
   ]
  },
  {
   "cell_type": "markdown",
   "metadata": {},
   "source": []
  }
 ],
 "metadata": {
  "kernelspec": {
   "display_name": "Python 3",
   "language": "python",
   "name": "python3"
  },
  "language_info": {
   "codemirror_mode": {
    "name": "ipython",
    "version": 3
   },
   "file_extension": ".py",
   "mimetype": "text/x-python",
   "name": "python",
   "nbconvert_exporter": "python",
   "pygments_lexer": "ipython3",
   "version": "3.11.3"
  },
  "orig_nbformat": 4
 },
 "nbformat": 4,
 "nbformat_minor": 2
}
